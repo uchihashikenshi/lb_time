{
 "cells": [
  {
   "cell_type": "code",
   "execution_count": 1,
   "metadata": {
    "collapsed": false
   },
   "outputs": [
    {
     "name": "stderr",
     "output_type": "stream",
     "text": [
      "/Users/uchihashi_k/anaconda/lib/python2.7/site-packages/matplotlib/font_manager.py:273: UserWarning: Matplotlib is building the font cache using fc-list. This may take a moment.\n",
      "  warnings.warn('Matplotlib is building the font cache using fc-list. This may take a moment.')\n"
     ]
    },
    {
     "name": "stdout",
     "output_type": "stream",
     "text": [
      "Populating the interactive namespace from numpy and matplotlib\n"
     ]
    }
   ],
   "source": [
    "%pylab inline\n",
    "%load_ext autoreload\n",
    "%autoreload 2\n",
    "import numpy as np\n",
    "import numpy\n",
    "import matplotlib.pyplot as plt\n",
    "import pandas as pd\n",
    "import sys\n",
    "import os\n",
    "import six\n",
    "project_path = os.getcwd() + '/../'\n",
    "sys.path.append(project_path + \"utils\")\n",
    "\n",
    "import sklearn.metrics\n",
    "from sklearn.metrics import precision_recall_curve\n",
    "from sklearn.metrics import auc\n",
    "from sklearn.metrics import roc_curve\n",
    "from sklearn.grid_search import GridSearchCV\n",
    "import sklearn\n",
    "from sklearn.externals import joblib\n",
    "from scipy.spatial.distance import euclidean\n",
    "\n",
    "from fastdtw import fastdtw"
   ]
  },
  {
   "cell_type": "code",
   "execution_count": 2,
   "metadata": {
    "collapsed": false
   },
   "outputs": [],
   "source": [
    "import seaborn as sns\n",
    "\n",
    "import function\n",
    "import preprocessing\n",
    "import local_bayes\n",
    "import visualize\n",
    "import metrics"
   ]
  },
  {
   "cell_type": "code",
   "execution_count": 3,
   "metadata": {
    "collapsed": false
   },
   "outputs": [],
   "source": [
    "sys.path.append(project_path + \"models/cnn\")\n",
    "import cnn"
   ]
  },
  {
   "cell_type": "markdown",
   "metadata": {},
   "source": [
    "# nearest points"
   ]
  },
  {
   "cell_type": "code",
   "execution_count": 4,
   "metadata": {
    "collapsed": false
   },
   "outputs": [],
   "source": [
    "save_data_dir = '../data/bookmark/'\n",
    "train_0_0 = numpy.load(save_data_dir + '0_test/0_fold/0_train.npz')\n",
    "test_0_0 = numpy.load(save_data_dir + '0_test/0_fold/0_test.npz')"
   ]
  },
  {
   "cell_type": "code",
   "execution_count": 5,
   "metadata": {
    "collapsed": false
   },
   "outputs": [],
   "source": [
    "new_tr = train_0_0['x'][:1000]\n",
    "new_te = test_0_0['x'][0]"
   ]
  },
  {
   "cell_type": "code",
   "execution_count": 6,
   "metadata": {
    "collapsed": false
   },
   "outputs": [],
   "source": [
    "localbayes = local_bayes.LocalBayes(nn_num=20, data_dim=30)"
   ]
  },
  {
   "cell_type": "code",
   "execution_count": 7,
   "metadata": {
    "collapsed": false
   },
   "outputs": [
    {
     "name": "stdout",
     "output_type": "stream",
     "text": [
      "758"
     ]
    }
   ],
   "source": [
    "nn_dist_ls, nn_ts_ls = localbayes.get_nearest_n(train_0_0['x'], new_te)"
   ]
  },
  {
   "cell_type": "code",
   "execution_count": 8,
   "metadata": {
    "collapsed": false
   },
   "outputs": [
    {
     "data": {
      "text/plain": [
       "20"
      ]
     },
     "execution_count": 8,
     "metadata": {},
     "output_type": "execute_result"
    }
   ],
   "source": [
    "len(nn_ts_ls)"
   ]
  },
  {
   "cell_type": "code",
   "execution_count": 9,
   "metadata": {
    "collapsed": false
   },
   "outputs": [
    {
     "data": {
      "text/plain": [
       "array([[ 2,  1,  1,  0,  7,  3,  4,  7, 11,  6,  4,  4,  7,  5,  5,  7,  1,\n",
       "         3,  5,  5,  7,  0,  1,  3,  2,  2,  4,  3,  1,  4],\n",
       "       [ 2,  1,  2,  8,  1,  2,  2,  8,  5,  1,  4,  4,  8, 10,  2,  2,  0,\n",
       "         2,  2,  2,  2,  1,  2,  2,  1,  0,  2,  2,  6,  0],\n",
       "       [ 3,  2,  3,  5,  7,  1,  7,  1,  1,  1,  1,  2,  4,  1,  1,  1,  0,\n",
       "         1,  2,  4,  3,  1,  3,  1,  2,  3,  0,  4,  0,  1],\n",
       "       [ 0,  2,  1,  6, 16, 13,  3,  5,  6,  1,  2,  1,  5,  0,  1,  3,  7,\n",
       "         1,  1,  1,  1,  1,  1,  1,  2,  1,  0,  3,  0,  1],\n",
       "       [ 1,  9,  6,  2, 14, 10,  5,  5,  1,  2,  4,  1,  2,  1,  6,  0,  4,\n",
       "         5,  3,  2,  0,  0,  3,  4,  4,  3,  2,  0,  2,  1],\n",
       "       [ 0,  2,  5,  2,  6,  4,  5,  1,  4,  3,  2,  1,  4,  1,  0,  1,  3,\n",
       "         5,  2,  1,  3,  2,  2,  1,  2,  1,  1,  1,  1,  1],\n",
       "       [ 0,  0,  0,  0,  2,  5, 11,  4,  1,  0,  2,  0,  2,  2,  2,  3,  1,\n",
       "         1,  1,  1,  1,  6,  0,  3,  2,  3,  1,  3,  4,  0],\n",
       "       [ 0,  0,  0,  0,  7, 13, 22,  8,  3,  1,  1,  3,  5,  3,  0,  1,  0,\n",
       "         0,  1,  1,  0,  0,  0,  0,  1,  2,  0,  0,  0,  0],\n",
       "       [ 0,  0,  0,  2,  2,  0,  2,  0,  1,  2,  1,  2,  2,  5,  2,  1,  1,\n",
       "         2,  1,  0,  8,  8,  3,  5,  6,  2,  2,  3,  1,  1],\n",
       "       [ 2,  2,  0,  2,  3,  4,  5,  3,  1,  3,  2,  8,  5,  8,  5,  3,  2,\n",
       "         1,  2,  3,  4,  2,  4,  1,  2,  1,  4,  3,  6,  2],\n",
       "       [ 1, 12,  6, 12,  7,  2,  1,  3,  0,  3,  3,  1,  0,  1,  4,  2,  0,\n",
       "         0,  0,  2,  0,  2,  3,  0,  2,  0,  1,  1,  1,  0],\n",
       "       [ 0,  1,  6,  2,  1,  9,  4,  3,  1,  5,  2,  4,  1,  1,  1,  1,  0,\n",
       "         1,  3,  3,  4,  1,  3,  0,  1,  2,  0,  2,  1,  0],\n",
       "       [ 2,  0,  1,  5,  5,  2,  1,  0,  3,  3,  5,  7,  2,  1,  3,  1,  3,\n",
       "         3,  3,  3,  0,  0,  2,  3,  2,  4,  7,  4,  2,  2],\n",
       "       [ 0,  0,  1,  3,  1,  1,  2,  0,  0,  5,  4,  2,  1,  4,  3,  3,  6,\n",
       "         3,  1,  1,  2,  2,  0,  5,  4,  9,  2,  1,  0,  2],\n",
       "       [ 2,  1,  0,  3,  3,  5,  7,  2,  1,  3,  1,  3,  3,  3,  3,  0,  0,\n",
       "         2,  3,  2,  4,  7,  4,  2,  2,  3,  4,  2,  1,  3],\n",
       "       [ 2,  4,  8,  1,  2,  8, 11,  5,  5, 12,  3,  2,  3,  1,  4,  3,  3,\n",
       "         3,  1,  4,  3,  3,  3,  3,  2,  1,  3,  1,  3,  4],\n",
       "       [ 0,  0,  0,  2,  2,  0,  2,  0,  1,  2,  1,  2,  2,  5,  2,  1,  1,\n",
       "         2,  1,  0,  8,  8,  3,  5,  6,  2,  2,  3,  1,  1],\n",
       "       [ 4,  3,  1,  5,  5,  6, 11,  3,  4,  5,  3,  5,  4,  1,  4,  1,  2,\n",
       "         4,  2,  2,  2,  1,  2,  2,  0,  4,  2,  2,  0,  1],\n",
       "       [ 1, 17,  5,  3,  2,  7, 14,  8,  2,  1,  3,  0,  1,  0,  0,  2,  3,\n",
       "         3,  3,  0,  0,  1,  0,  0,  0,  0,  0,  0,  0,  1],\n",
       "       [ 0,  3,  4,  7,  4,  4,  7,  4,  6,  9,  7,  5,  6,  4,  4,  3,  8,\n",
       "         4,  5,  1,  3,  2,  2,  3,  3,  1,  2,  1,  1,  5]])"
      ]
     },
     "execution_count": 9,
     "metadata": {},
     "output_type": "execute_result"
    }
   ],
   "source": [
    "numpy.array(nn_ts_ls)"
   ]
  },
  {
   "cell_type": "markdown",
   "metadata": {
    "collapsed": true
   },
   "source": [
    "## prediction"
   ]
  },
  {
   "cell_type": "markdown",
   "metadata": {},
   "source": [
    "### gradient boosting decision tree"
   ]
  },
  {
   "cell_type": "code",
   "execution_count": 10,
   "metadata": {
    "collapsed": true
   },
   "outputs": [],
   "source": [
    "from sklearn.ensemble import AdaBoostClassifier\n",
    "from sklearn.tree import DecisionTreeClassifier"
   ]
  },
  {
   "cell_type": "code",
   "execution_count": 11,
   "metadata": {
    "collapsed": true
   },
   "outputs": [],
   "source": [
    "max_depth = 4\n",
    "n_estimators = 5000"
   ]
  },
  {
   "cell_type": "code",
   "execution_count": 12,
   "metadata": {
    "collapsed": true
   },
   "outputs": [],
   "source": [
    "bdt = joblib.load('../models/gbdt/results/bdt_%s_%s.pkl' % (max_depth, n_estimators))"
   ]
  },
  {
   "cell_type": "code",
   "execution_count": 13,
   "metadata": {
    "collapsed": false
   },
   "outputs": [
    {
     "data": {
      "text/plain": [
       "[0.49595700562528316,\n",
       " 0.4963279326980058,\n",
       " 0.5018216740450403,\n",
       " 0.5001240860643253,\n",
       " 0.5020297148593013,\n",
       " 0.5006630041875523,\n",
       " 0.49494918737213006,\n",
       " 0.48509078479105927,\n",
       " 0.49769480945527955,\n",
       " 0.49882025072187747,\n",
       " 0.49312866101663677,\n",
       " 0.4945560017422757,\n",
       " 0.5019556691731124,\n",
       " 0.5015629959725285,\n",
       " 0.5009917399909998,\n",
       " 0.49657133035668094,\n",
       " 0.49769480945527955,\n",
       " 0.49734666478262257,\n",
       " 0.4833935677247825,\n",
       " 0.4968898831320494]"
      ]
     },
     "execution_count": 13,
     "metadata": {},
     "output_type": "execute_result"
    }
   ],
   "source": [
    "gbdt_pred = bdt.predict_proba(numpy.array(nn_ts_ls))\n",
    "gbdt_pred = gbdt_pred[:, 1].tolist()\n",
    "gbdt_pred"
   ]
  },
  {
   "cell_type": "markdown",
   "metadata": {},
   "source": [
    "### CNN"
   ]
  },
  {
   "cell_type": "code",
   "execution_count": 14,
   "metadata": {
    "collapsed": true
   },
   "outputs": [],
   "source": [
    "import chainer\n",
    "import chainer.functions as F\n",
    "import chainer.links as L\n",
    "from chainer import cuda\n",
    "from chainer import optimizers\n",
    "from chainer import serializers\n",
    "from chainer import Link, Chain, ChainList\n",
    "\n",
    "import pandas as pd\n",
    "from ggplot import *"
   ]
  },
  {
   "cell_type": "code",
   "execution_count": 15,
   "metadata": {
    "collapsed": true
   },
   "outputs": [],
   "source": [
    "save_model_dir = '../models/cnn/results/awesome_100/'"
   ]
  },
  {
   "cell_type": "code",
   "execution_count": 16,
   "metadata": {
    "collapsed": true
   },
   "outputs": [],
   "source": [
    "sys.path.append(project_path + \"models/cnn\")\n",
    "import cnn_net"
   ]
  },
  {
   "cell_type": "code",
   "execution_count": 17,
   "metadata": {
    "collapsed": true
   },
   "outputs": [],
   "source": [
    "N_test = numpy.array(nn_ts_ls).shape[0]\n",
    "data_dim = test_0_0['x'].shape[1]"
   ]
  },
  {
   "cell_type": "code",
   "execution_count": 18,
   "metadata": {
    "collapsed": true
   },
   "outputs": [],
   "source": [
    "model = L.Classifier(cnn_net.tsCNN_net(data_dim))"
   ]
  },
  {
   "cell_type": "code",
   "execution_count": 19,
   "metadata": {
    "collapsed": false
   },
   "outputs": [],
   "source": [
    "serializers.load_npz(save_model_dir + \"mlp.model\", model)"
   ]
  },
  {
   "cell_type": "code",
   "execution_count": 20,
   "metadata": {
    "collapsed": true
   },
   "outputs": [],
   "source": [
    "def forward(x_data, model):\n",
    "    x = chainer.Variable(x_data)\n",
    "    h = F.max_pooling_2d(F.relu(model.conv1(x)), 2)\n",
    "    h = F.max_pooling_2d(F.relu(model.conv2(h)), 2)\n",
    "    h = F.relu(model.l1(h))\n",
    "    y = model.l2(h)\n",
    "\n",
    "    return y"
   ]
  },
  {
   "cell_type": "code",
   "execution_count": 21,
   "metadata": {
    "collapsed": false
   },
   "outputs": [],
   "source": [
    "nn_x = numpy.array(nn_ts_ls).reshape((N_test, 1, 1, data_dim))"
   ]
  },
  {
   "cell_type": "code",
   "execution_count": 22,
   "metadata": {
    "collapsed": false
   },
   "outputs": [],
   "source": [
    "cnn_pred = []\n",
    "for i in range(0, N_test):\n",
    "    x = np.asarray(nn_x[i]).reshape((1, 1, 1, data_dim)).astype(numpy.float32)\n",
    "    \n",
    "    pred_ = F.softmax(model.predictor(chainer.Variable(x)))\n",
    "    cnn_pred.append(pred_.data[0][1])"
   ]
  },
  {
   "cell_type": "code",
   "execution_count": 23,
   "metadata": {
    "collapsed": false
   },
   "outputs": [
    {
     "data": {
      "text/plain": [
       "[0.0026402085,\n",
       " 9.3086167e-10,\n",
       " 0.99981683,\n",
       " 0.99943095,\n",
       " 0.99990177,\n",
       " 0.98906881,\n",
       " 5.6098847e-06,\n",
       " 1.2144666e-16,\n",
       " 0.00092398445,\n",
       " 0.0015024451,\n",
       " 0.0041209068,\n",
       " 1.322026e-07,\n",
       " 0.99985313,\n",
       " 0.99979764,\n",
       " 0.99630016,\n",
       " 0.0026082713,\n",
       " 0.00092398445,\n",
       " 0.024740428,\n",
       " 2.0070509e-08,\n",
       " 0.0031541879]"
      ]
     },
     "execution_count": 23,
     "metadata": {},
     "output_type": "execute_result"
    }
   ],
   "source": [
    "cnn_pred"
   ]
  },
  {
   "cell_type": "markdown",
   "metadata": {},
   "source": [
    "## local bayes estimation"
   ]
  },
  {
   "cell_type": "code",
   "execution_count": 99,
   "metadata": {
    "collapsed": true
   },
   "outputs": [],
   "source": [
    "localbayes = local_bayes.LocalBayes(nn_num=20, data_dim=30, max_dist=50)"
   ]
  },
  {
   "cell_type": "code",
   "execution_count": 29,
   "metadata": {
    "collapsed": false
   },
   "outputs": [],
   "source": [
    "learner_name_ls = ['cnn', 'gbdt']\n",
    "pred_proba_dict = {}\n",
    "pred_proba_dict.update({'cnn':cnn_pred})\n",
    "pred_proba_dict.update({'gbdt':gbdt_pred})"
   ]
  },
  {
   "cell_type": "code",
   "execution_count": 32,
   "metadata": {
    "collapsed": false
   },
   "outputs": [],
   "source": [
    "model_dict = {}\n",
    "model_dict.update({'cnn':model})\n",
    "model_dict.update({'gbdt':bdt})"
   ]
  },
  {
   "cell_type": "code",
   "execution_count": 114,
   "metadata": {
    "collapsed": false
   },
   "outputs": [
    {
     "data": {
      "text/plain": [
       "2378"
      ]
     },
     "execution_count": 114,
     "metadata": {},
     "output_type": "execute_result"
    }
   ],
   "source": [
    "len(test_0_0['x'])"
   ]
  },
  {
   "cell_type": "code",
   "execution_count": 115,
   "metadata": {
    "collapsed": false
   },
   "outputs": [],
   "source": [
    "train_data_num = 500\n",
    "test_data_num = len(test_0_0['x'])\n",
    "save_result_dir = '../results/nn_num=%s_train_data_num=%s_test_data_num=%s/' % (nn_num, train_data_num, test_data_num)\n",
    "# os.mkdir(save_result_dir)"
   ]
  },
  {
   "cell_type": "code",
   "execution_count": 116,
   "metadata": {
    "collapsed": false
   },
   "outputs": [
    {
     "name": "stdout",
     "output_type": "stream",
     "text": [
      "2377"
     ]
    },
    {
     "ename": "IOError",
     "evalue": "[Errno 2] No such file or directory: '../results/nn_num=20_train_data_num=500_test_data_num=2378/result.npz'",
     "output_type": "error",
     "traceback": [
      "\u001b[0;31m---------------------------------------------------------------------------\u001b[0m",
      "\u001b[0;31mIOError\u001b[0m                                   Traceback (most recent call last)",
      "\u001b[0;32m<ipython-input-116-554a58a765ab>\u001b[0m in \u001b[0;36m<module>\u001b[0;34m()\u001b[0m\n\u001b[1;32m     13\u001b[0m     \u001b[0msys\u001b[0m\u001b[0;34m.\u001b[0m\u001b[0mstdout\u001b[0m\u001b[0;34m.\u001b[0m\u001b[0mwrite\u001b[0m\u001b[0;34m(\u001b[0m\u001b[0;34m'\\r%d'\u001b[0m \u001b[0;34m%\u001b[0m \u001b[0mi\u001b[0m\u001b[0;34m)\u001b[0m\u001b[0;34m\u001b[0m\u001b[0m\n\u001b[1;32m     14\u001b[0m     \u001b[0msys\u001b[0m\u001b[0;34m.\u001b[0m\u001b[0mstdout\u001b[0m\u001b[0;34m.\u001b[0m\u001b[0mflush\u001b[0m\u001b[0;34m(\u001b[0m\u001b[0;34m)\u001b[0m\u001b[0;34m\u001b[0m\u001b[0m\n\u001b[0;32m---> 15\u001b[0;31m \u001b[0mnumpy\u001b[0m\u001b[0;34m.\u001b[0m\u001b[0msavez\u001b[0m\u001b[0;34m(\u001b[0m\u001b[0msave_result_dir\u001b[0m \u001b[0;34m+\u001b[0m \u001b[0;34m'result.npz'\u001b[0m\u001b[0;34m,\u001b[0m \u001b[0mw\u001b[0m\u001b[0;34m=\u001b[0m\u001b[0mw_dict_ls\u001b[0m\u001b[0;34m,\u001b[0m \u001b[0mpred\u001b[0m\u001b[0;34m=\u001b[0m\u001b[0mlb_pred_ls\u001b[0m\u001b[0;34m)\u001b[0m\u001b[0;34m\u001b[0m\u001b[0m\n\u001b[0m",
      "\u001b[0;32m/Users/uchihashi_k/anaconda/lib/python2.7/site-packages/numpy/lib/npyio.pyc\u001b[0m in \u001b[0;36msavez\u001b[0;34m(file, *args, **kwds)\u001b[0m\n\u001b[1;32m    572\u001b[0m \u001b[0;34m\u001b[0m\u001b[0m\n\u001b[1;32m    573\u001b[0m     \"\"\"\n\u001b[0;32m--> 574\u001b[0;31m     \u001b[0m_savez\u001b[0m\u001b[0;34m(\u001b[0m\u001b[0mfile\u001b[0m\u001b[0;34m,\u001b[0m \u001b[0margs\u001b[0m\u001b[0;34m,\u001b[0m \u001b[0mkwds\u001b[0m\u001b[0;34m,\u001b[0m \u001b[0mFalse\u001b[0m\u001b[0;34m)\u001b[0m\u001b[0;34m\u001b[0m\u001b[0m\n\u001b[0m\u001b[1;32m    575\u001b[0m \u001b[0;34m\u001b[0m\u001b[0m\n\u001b[1;32m    576\u001b[0m \u001b[0;34m\u001b[0m\u001b[0m\n",
      "\u001b[0;32m/Users/uchihashi_k/anaconda/lib/python2.7/site-packages/numpy/lib/npyio.pyc\u001b[0m in \u001b[0;36m_savez\u001b[0;34m(file, args, kwds, compress, allow_pickle, pickle_kwargs)\u001b[0m\n\u001b[1;32m    625\u001b[0m         \u001b[0mcompression\u001b[0m \u001b[0;34m=\u001b[0m \u001b[0mzipfile\u001b[0m\u001b[0;34m.\u001b[0m\u001b[0mZIP_STORED\u001b[0m\u001b[0;34m\u001b[0m\u001b[0m\n\u001b[1;32m    626\u001b[0m \u001b[0;34m\u001b[0m\u001b[0m\n\u001b[0;32m--> 627\u001b[0;31m     \u001b[0mzipf\u001b[0m \u001b[0;34m=\u001b[0m \u001b[0mzipfile_factory\u001b[0m\u001b[0;34m(\u001b[0m\u001b[0mfile\u001b[0m\u001b[0;34m,\u001b[0m \u001b[0mmode\u001b[0m\u001b[0;34m=\u001b[0m\u001b[0;34m\"w\"\u001b[0m\u001b[0;34m,\u001b[0m \u001b[0mcompression\u001b[0m\u001b[0;34m=\u001b[0m\u001b[0mcompression\u001b[0m\u001b[0;34m)\u001b[0m\u001b[0;34m\u001b[0m\u001b[0m\n\u001b[0m\u001b[1;32m    628\u001b[0m \u001b[0;34m\u001b[0m\u001b[0m\n\u001b[1;32m    629\u001b[0m     \u001b[0;31m# Stage arrays in a temporary file on disk, before writing to zip.\u001b[0m\u001b[0;34m\u001b[0m\u001b[0;34m\u001b[0m\u001b[0m\n",
      "\u001b[0;32m/Users/uchihashi_k/anaconda/lib/python2.7/site-packages/numpy/lib/npyio.pyc\u001b[0m in \u001b[0;36mzipfile_factory\u001b[0;34m(*args, **kwargs)\u001b[0m\n\u001b[1;32m     90\u001b[0m     \u001b[0;32mimport\u001b[0m \u001b[0mzipfile\u001b[0m\u001b[0;34m\u001b[0m\u001b[0m\n\u001b[1;32m     91\u001b[0m     \u001b[0mkwargs\u001b[0m\u001b[0;34m[\u001b[0m\u001b[0;34m'allowZip64'\u001b[0m\u001b[0;34m]\u001b[0m \u001b[0;34m=\u001b[0m \u001b[0mTrue\u001b[0m\u001b[0;34m\u001b[0m\u001b[0m\n\u001b[0;32m---> 92\u001b[0;31m     \u001b[0;32mreturn\u001b[0m \u001b[0mzipfile\u001b[0m\u001b[0;34m.\u001b[0m\u001b[0mZipFile\u001b[0m\u001b[0;34m(\u001b[0m\u001b[0;34m*\u001b[0m\u001b[0margs\u001b[0m\u001b[0;34m,\u001b[0m \u001b[0;34m**\u001b[0m\u001b[0mkwargs\u001b[0m\u001b[0;34m)\u001b[0m\u001b[0;34m\u001b[0m\u001b[0m\n\u001b[0m\u001b[1;32m     93\u001b[0m \u001b[0;34m\u001b[0m\u001b[0m\n\u001b[1;32m     94\u001b[0m \u001b[0;34m\u001b[0m\u001b[0m\n",
      "\u001b[0;32m/Users/uchihashi_k/anaconda/lib/python2.7/zipfile.pyc\u001b[0m in \u001b[0;36m__init__\u001b[0;34m(self, file, mode, compression, allowZip64)\u001b[0m\n\u001b[1;32m    754\u001b[0m             \u001b[0mmodeDict\u001b[0m \u001b[0;34m=\u001b[0m \u001b[0;34m{\u001b[0m\u001b[0;34m'r'\u001b[0m \u001b[0;34m:\u001b[0m \u001b[0;34m'rb'\u001b[0m\u001b[0;34m,\u001b[0m \u001b[0;34m'w'\u001b[0m\u001b[0;34m:\u001b[0m \u001b[0;34m'wb'\u001b[0m\u001b[0;34m,\u001b[0m \u001b[0;34m'a'\u001b[0m \u001b[0;34m:\u001b[0m \u001b[0;34m'r+b'\u001b[0m\u001b[0;34m}\u001b[0m\u001b[0;34m\u001b[0m\u001b[0m\n\u001b[1;32m    755\u001b[0m             \u001b[0;32mtry\u001b[0m\u001b[0;34m:\u001b[0m\u001b[0;34m\u001b[0m\u001b[0m\n\u001b[0;32m--> 756\u001b[0;31m                 \u001b[0mself\u001b[0m\u001b[0;34m.\u001b[0m\u001b[0mfp\u001b[0m \u001b[0;34m=\u001b[0m \u001b[0mopen\u001b[0m\u001b[0;34m(\u001b[0m\u001b[0mfile\u001b[0m\u001b[0;34m,\u001b[0m \u001b[0mmodeDict\u001b[0m\u001b[0;34m[\u001b[0m\u001b[0mmode\u001b[0m\u001b[0;34m]\u001b[0m\u001b[0;34m)\u001b[0m\u001b[0;34m\u001b[0m\u001b[0m\n\u001b[0m\u001b[1;32m    757\u001b[0m             \u001b[0;32mexcept\u001b[0m \u001b[0mIOError\u001b[0m\u001b[0;34m:\u001b[0m\u001b[0;34m\u001b[0m\u001b[0m\n\u001b[1;32m    758\u001b[0m                 \u001b[0;32mif\u001b[0m \u001b[0mmode\u001b[0m \u001b[0;34m==\u001b[0m \u001b[0;34m'a'\u001b[0m\u001b[0;34m:\u001b[0m\u001b[0;34m\u001b[0m\u001b[0m\n",
      "\u001b[0;31mIOError\u001b[0m: [Errno 2] No such file or directory: '../results/nn_num=20_train_data_num=500_test_data_num=2378/result.npz'"
     ]
    }
   ],
   "source": [
    "lb_pred_ls, w_dict_ls = [], []\n",
    "for i in xrange(test_data_num):\n",
    "    test_data = test_0_0['x'][i]\n",
    "    nn_dist_ls, nn_ts_array = localbayes.get_nearest_n(train_0_0['x'][:train_data_num], test_data)\n",
    "    nn_pred_dict = localbayes.cal_prediction_nearest_n(test_data, nn_ts_array, learner_name_ls, model_dict)\n",
    "    \n",
    "    w_dict = localbayes.local_bayes_estimation(nn_pred_dict, learner_name_ls)\n",
    "    w_dict_ls.append(w_dict)\n",
    "    \n",
    "    lb_pred = localbayes.local_bayes_predict(test_data, learner_name_ls, w_dict, model_dict)\n",
    "    lb_pred_ls.append(lb_pred)\n",
    "    \n",
    "    sys.stdout.write('\\r%d' % i)\n",
    "    sys.stdout.flush()\n",
    "numpy.savez(save_result_dir + 'result.npz', w=w_dict_ls, pred=lb_pred_ls)"
   ]
  },
  {
   "cell_type": "code",
   "execution_count": 110,
   "metadata": {
    "collapsed": true
   },
   "outputs": [],
   "source": [
    "result = numpy.load(save_result_dir + 'result.npz')"
   ]
  },
  {
   "cell_type": "code",
   "execution_count": 113,
   "metadata": {
    "collapsed": false
   },
   "outputs": [
    {
     "data": {
      "text/plain": [
       "array([  4.92004619e-01,   5.00054838e-01,   1.35121895e-02,\n",
       "         1.38529181e-03,   5.03695067e-01,   4.62573896e-01,\n",
       "         9.94276583e-01,   1.00000000e+00,   7.15879786e-22,\n",
       "         5.01461328e-01])"
      ]
     },
     "execution_count": 113,
     "metadata": {},
     "output_type": "execute_result"
    }
   ],
   "source": [
    "result['pred']"
   ]
  },
  {
   "cell_type": "code",
   "execution_count": 102,
   "metadata": {
    "collapsed": false
   },
   "outputs": [
    {
     "data": {
      "text/plain": [
       "0.99427658319473267"
      ]
     },
     "execution_count": 102,
     "metadata": {},
     "output_type": "execute_result"
    }
   ],
   "source": [
    "lb_pred = localbayes.local_bayes_predict(test_0_0['x'][6], learner_name_ls, w_dict_ls[6], model_dict)\n",
    "lb_pred"
   ]
  },
  {
   "cell_type": "code",
   "execution_count": 103,
   "metadata": {
    "collapsed": false
   },
   "outputs": [
    {
     "data": {
      "text/plain": [
       "[{'cnn': 0.0, 'gbdt': 1.0},\n",
       " {'cnn': 0.0, 'gbdt': 1.0},\n",
       " {'cnn': 1.0, 'gbdt': 0.0},\n",
       " {'cnn': 1.0, 'gbdt': 0.0},\n",
       " {'cnn': 0.0, 'gbdt': 1.0},\n",
       " {'cnn': 0.0, 'gbdt': 1.0},\n",
       " {'cnn': 1.0, 'gbdt': 0.0},\n",
       " {'cnn': 1.0, 'gbdt': 0.0},\n",
       " {'cnn': 1.0, 'gbdt': 0.0},\n",
       " {'cnn': 0.0, 'gbdt': 1.0}]"
      ]
     },
     "execution_count": 103,
     "metadata": {},
     "output_type": "execute_result"
    }
   ],
   "source": [
    "w_dict_ls"
   ]
  },
  {
   "cell_type": "code",
   "execution_count": 104,
   "metadata": {
    "collapsed": false
   },
   "outputs": [
    {
     "data": {
      "text/plain": [
       "[0.49200461940550261,\n",
       " 0.50005483764867875,\n",
       " 0.013512189500033855,\n",
       " 0.0013852918054908514,\n",
       " 0.50369506668047115,\n",
       " 0.46257389601869942,\n",
       " 0.99427658319473267,\n",
       " 1.0,\n",
       " 7.158797856732882e-22,\n",
       " 0.50146132757516548]"
      ]
     },
     "execution_count": 104,
     "metadata": {},
     "output_type": "execute_result"
    }
   ],
   "source": [
    "lb_pred_ls"
   ]
  },
  {
   "cell_type": "code",
   "execution_count": 105,
   "metadata": {
    "collapsed": false
   },
   "outputs": [
    {
     "data": {
      "text/plain": [
       "array([0, 0, 1, 0, 1, 0, 1, 1, 0, 1])"
      ]
     },
     "execution_count": 105,
     "metadata": {},
     "output_type": "execute_result"
    }
   ],
   "source": [
    "test_0_0['y'][:10]"
   ]
  },
  {
   "cell_type": "code",
   "execution_count": null,
   "metadata": {
    "collapsed": true
   },
   "outputs": [],
   "source": []
  },
  {
   "cell_type": "code",
   "execution_count": null,
   "metadata": {
    "collapsed": true
   },
   "outputs": [],
   "source": []
  }
 ],
 "metadata": {
  "kernelspec": {
   "display_name": "Python 2",
   "language": "python",
   "name": "python2"
  },
  "language_info": {
   "codemirror_mode": {
    "name": "ipython",
    "version": 2
   },
   "file_extension": ".py",
   "mimetype": "text/x-python",
   "name": "python",
   "nbconvert_exporter": "python",
   "pygments_lexer": "ipython2",
   "version": "2.7.11"
  }
 },
 "nbformat": 4,
 "nbformat_minor": 0
}

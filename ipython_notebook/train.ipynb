{
 "cells": [
  {
   "cell_type": "code",
   "execution_count": 2,
   "metadata": {
    "collapsed": false
   },
   "outputs": [
    {
     "name": "stdout",
     "output_type": "stream",
     "text": [
      "Populating the interactive namespace from numpy and matplotlib\n",
      "The autoreload extension is already loaded. To reload it, use:\n",
      "  %reload_ext autoreload\n"
     ]
    }
   ],
   "source": [
    "%pylab inline\n",
    "%load_ext autoreload\n",
    "%autoreload 2\n",
    "import numpy as np\n",
    "import matplotlib.pyplot as plt\n",
    "import pandas as pd\n",
    "import sys\n",
    "import os\n",
    "project_path = os.getcwd() + '/../'\n",
    "sys.path.append(project_path + \"utils\")\n",
    "\n",
    "from sklearn.metrics import precision_recall_curve\n",
    "from sklearn.metrics import auc\n",
    "from sklearn.metrics import roc_curve\n",
    "from sklearn.grid_search import GridSearchCV\n",
    "from sklearn.externals import joblib\n",
    "import sklearn"
   ]
  },
  {
   "cell_type": "code",
   "execution_count": 3,
   "metadata": {
    "collapsed": true
   },
   "outputs": [],
   "source": [
    "import seaborn as sns"
   ]
  },
  {
   "cell_type": "code",
   "execution_count": 4,
   "metadata": {
    "collapsed": false
   },
   "outputs": [],
   "source": [
    "import function\n",
    "import preprocessing\n",
    "import local_bayes\n",
    "import visualize"
   ]
  },
  {
   "cell_type": "code",
   "execution_count": 5,
   "metadata": {
    "collapsed": true
   },
   "outputs": [],
   "source": [
    "sys.path.append(project_path + \"models/cnn\")"
   ]
  },
  {
   "cell_type": "code",
   "execution_count": 44,
   "metadata": {
    "collapsed": false
   },
   "outputs": [],
   "source": [
    "p = preprocessing.Preprocessing(data_dir = \"../original_data/bookmark/\")"
   ]
  },
  {
   "cell_type": "markdown",
   "metadata": {},
   "source": [
    "# data load"
   ]
  },
  {
   "cell_type": "code",
   "execution_count": 43,
   "metadata": {
    "collapsed": false
   },
   "outputs": [],
   "source": [
    "## 注意: このデータロードはdataを入力とする場合, 関数ごとに毎回必要\n",
    "# movielens = p.load_data('movielens.twd')\n",
    "# science = p.load_data('science.twd')\n",
    "# ajax = p.load_data('ajax.twd')\n",
    "# java = p.load_data('java.twd')\n",
    "# news = p.load_data('news.twd')\n",
    "# css = p.load_data('css.twd')\n",
    "# javascript = p.load_data('javascript.twd')\n",
    "# opensource = p.load_data('opensource.twd')\n",
    "# webdesign = p.load_data('webdesign.twd')\n",
    "# design = p.load_data('design.twd')\n",
    "# linux = p.load_data('linux.twd')\n",
    "# photography = p.load_data('photography.twd')\n",
    "\n",
    "# data_ls = [science, ajax, java, news, css, javascript, opensource, webdesign, design, linux, photography]\n",
    "data_name_ls = ['science', 'ajax', 'java', 'news', 'css', 'javascript', 'opensource', 'webdesign', 'design', 'linux', 'photography']"
   ]
  },
  {
   "cell_type": "code",
   "execution_count": 47,
   "metadata": {
    "collapsed": false
   },
   "outputs": [
    {
     "name": "stdout",
     "output_type": "stream",
     "text": [
      "science\n",
      "1096 data createdajax\n",
      "11891 data createdjava\n",
      "1157 data creatednews\n",
      "4162 data createdcss\n",
      "16790 data createdjavascript\n",
      "9474 data createdopensource\n",
      "5508 data createdwebdesign\n",
      "15766 data createddesign\n",
      "21707 data createdlinux\n",
      "5698 data createdphotography\n",
      "6100 data created"
     ]
    }
   ],
   "source": [
    "for data_name in data_name_ls:\n",
    "    print data_name\n",
    "    data = p.load_data('%s.twd' % data_name)\n",
    "    category_ts, category_sum = p.timeseries(data)\n",
    "    category_started_ts = p.make_started_ts(category_ts)\n",
    "    category_input_ts, category_label, category_input_sum = p.make_supervised_data(category_started_ts, stride=5)\n",
    "    x, label = p.balancing_sampling(category_input_ts, category_label)\n",
    "    save_data_dir = '../data/bookmark/%s/' % data_name\n",
    "    os.mkdir(save_data_dir)\n",
    "    p.make_test_dataset(x, label, save_data_dir)"
   ]
  },
  {
   "cell_type": "code",
   "execution_count": 45,
   "metadata": {
    "collapsed": false
   },
   "outputs": [
    {
     "name": "stdout",
     "output_type": "stream",
     "text": [
      "science\n",
      "336 data createdajax\n",
      "2710 data createdjava\n",
      "410 data creatednews\n",
      "1157 data createdcss\n",
      "4084 data createdjavascript\n",
      "2386 data createdopensource\n",
      "1258 data createdwebdesign\n",
      "4008 data createddesign\n",
      "5503 data createdlinux\n",
      "1661 data createdphotography\n",
      "1586 data created"
     ]
    }
   ],
   "source": [
    "for data_name in data_name_ls:\n",
    "    print data_name\n",
    "    data = p.load_data('%s.twd' % data_name)\n",
    "    category_ts, category_sum = p.timeseries(data)\n",
    "    category_started_ts = p.make_started_ts(category_ts)\n",
    "    category_input_ts, category_label, category_input_sum = p.make_supervised_data(category_started_ts, stride=30)\n",
    "    x, label = p.balancing_sampling(category_input_ts, category_label)\n",
    "    save_data_dir = '../data/bookmark/%s_30/' % data_name\n",
    "    os.mkdir(save_data_dir)\n",
    "    p.make_test_dataset(x, label, save_data_dir)"
   ]
  },
  {
   "cell_type": "code",
   "execution_count": 46,
   "metadata": {
    "collapsed": false
   },
   "outputs": [
    {
     "name": "stdout",
     "output_type": "stream",
     "text": [
      "science\n",
      "247 data createdajax\n",
      "1819 data createdjava\n",
      "280 data creatednews\n",
      "622 data createdcss\n",
      "2583 data createdjavascript\n",
      "1686 data createdopensource\n",
      "747 data createdwebdesign\n",
      "2635 data createddesign\n",
      "3539 data createdlinux\n",
      "1212 data createdphotography\n",
      "1050 data created"
     ]
    }
   ],
   "source": [
    "for data_name in data_name_ls:\n",
    "    print data_name\n",
    "    data = p.load_data('%s.twd' % data_name)\n",
    "    category_ts, category_sum = p.timeseries(data)\n",
    "    category_started_ts = p.make_started_ts(category_ts)\n",
    "    category_input_ts, category_label, category_input_sum = p.make_supervised_data(category_started_ts, stride=60)\n",
    "    x, label = p.balancing_sampling(category_input_ts, category_label)\n",
    "    save_data_dir = '../data/bookmark/%s_60/' % data_name\n",
    "    os.mkdir(save_data_dir)\n",
    "    p.make_test_dataset(x, label, save_data_dir)"
   ]
  },
  {
   "cell_type": "code",
   "execution_count": 48,
   "metadata": {
    "collapsed": false
   },
   "outputs": [],
   "source": [
    "# all_save_dir = '../original_data/bookmark/'\n",
    "# all_category_ts = []\n",
    "# for data_name in data_name_ls:\n",
    "#     print data_name\n",
    "#     data = p.load_data('%s.twd' % data_name)\n",
    "#     category_ts, category_sum = p.timeseries(data, sum_min=100)\n",
    "#     all_category_ts.extend(category_ts)\n",
    "    \n",
    "# numpy.savez(all_save_dir + 'all_category.npz', numpy.array(all_category_ts))\n",
    "\n",
    "# category_started_ts = p.make_started_ts(all_category_ts)\n",
    "# category_input_ts, category_label, category_input_sum = p.make_supervised_data(category_started_ts, stride=30)\n",
    "# x, label = p.balancing_sampling(category_input_ts, category_label)\n",
    "# save_data_dir = '../data/bookmark/all/'\n",
    "# os.mkdir(save_data_dir)\n",
    "# p.make_test_dataset(x, label, save_data_dir, rand=True)    "
   ]
  },
  {
   "cell_type": "code",
   "execution_count": 49,
   "metadata": {
    "collapsed": true
   },
   "outputs": [],
   "source": [
    "save_data_dir = '../data/bookmark/ajax/'\n",
    "train_0_0 = numpy.load(save_data_dir + '0_test/0_fold/0_train.npz')\n",
    "test_0_0 = numpy.load(save_data_dir + '0_test/0_fold/0_test.npz')"
   ]
  },
  {
   "cell_type": "code",
   "execution_count": 50,
   "metadata": {
    "collapsed": false
   },
   "outputs": [
    {
     "data": {
      "text/plain": [
       "(9513, 30)"
      ]
     },
     "execution_count": 50,
     "metadata": {},
     "output_type": "execute_result"
    }
   ],
   "source": [
    "train_0_0['x'].shape"
   ]
  },
  {
   "cell_type": "code",
   "execution_count": 51,
   "metadata": {
    "collapsed": false
   },
   "outputs": [
    {
     "data": {
      "text/plain": [
       "array([1, 0, 1, 1, 0, 0, 0, 1, 1, 1])"
      ]
     },
     "execution_count": 51,
     "metadata": {},
     "output_type": "execute_result"
    }
   ],
   "source": [
    "test_0_0['y'][:10]"
   ]
  },
  {
   "cell_type": "markdown",
   "metadata": {},
   "source": [
    "# model training"
   ]
  },
  {
   "cell_type": "code",
   "execution_count": 52,
   "metadata": {
    "collapsed": false
   },
   "outputs": [],
   "source": [
    "import cnn"
   ]
  },
  {
   "cell_type": "code",
   "execution_count": 53,
   "metadata": {
    "collapsed": false
   },
   "outputs": [],
   "source": [
    "epoch_num = 50\n",
    "save_data_dir = '../data/bookmark/ajax/'\n",
    "save_model_dir = \"../models/cnn/results/ajax_%s/\" % epoch_num\n",
    "os.mkdir(\"../models/cnn/results/ajax_%s\" % epoch_num)\n",
    "train_0_0 = numpy.load(save_data_dir + '0_test/0_fold/0_train.npz')\n",
    "test_0_0 = numpy.load(save_data_dir + '0_test/0_fold/0_test.npz')\n",
    "cnntrain = cnn.CNN(save_model_dir=save_model_dir, epoch_num=epoch_num)"
   ]
  },
  {
   "cell_type": "code",
   "execution_count": 54,
   "metadata": {
    "collapsed": false
   },
   "outputs": [
    {
     "data": {
      "text/plain": [
       "(9513, 30)"
      ]
     },
     "execution_count": 54,
     "metadata": {},
     "output_type": "execute_result"
    }
   ],
   "source": [
    "train_0_0['x'].shape"
   ]
  },
  {
   "cell_type": "code",
   "execution_count": 55,
   "metadata": {
    "collapsed": false
   },
   "outputs": [
    {
     "name": "stdout",
     "output_type": "stream",
     "text": [
      "epoch 1\n",
      "graph generated\n",
      "train mean loss=0.763555543419, accuracy=0.667087147022, throughput=985.019075647 images/sec\n",
      "test  mean loss=0.655925751986, accuracy=0.701850297674\n",
      "epoch 2\n",
      "train mean loss=0.587689072254, accuracy=0.700620207271, throughput=1061.56957025 images/sec\n",
      "test  mean loss=0.66575453718, accuracy=0.672834321468\n",
      "epoch 3\n",
      "train mean loss=0.559981701979, accuracy=0.711237257147, throughput=1055.22101949 images/sec\n",
      "test  mean loss=0.531552276534, accuracy=0.718250631183\n",
      "epoch 4\n",
      "train mean loss=0.546330547378, accuracy=0.719016085184, throughput=1067.50973784 images/sec\n",
      "test  mean loss=0.538945324086, accuracy=0.723717412094\n",
      "epoch 5\n",
      "train mean loss=0.523404573854, accuracy=0.730789448596, throughput=1067.28881073 images/sec\n",
      "test  mean loss=0.531542739766, accuracy=0.735912538507\n",
      "epoch 6\n",
      "train mean loss=0.517464605937, accuracy=0.737201724521, throughput=1072.68237419 images/sec\n",
      "test  mean loss=0.516535560081, accuracy=0.732127839422\n",
      "epoch 7\n",
      "train mean loss=0.495763141519, accuracy=0.750236517515, throughput=1028.84643922 images/sec\n",
      "test  mean loss=0.497435156666, accuracy=0.752733390405\n",
      "epoch 8\n",
      "train mean loss=0.473113005261, accuracy=0.761063806218, throughput=1004.47141101 images/sec\n",
      "test  mean loss=0.516799667636, accuracy=0.738435662274\n",
      "epoch 9\n",
      "train mean loss=0.486651012421, accuracy=0.762325235362, throughput=1054.43864785 images/sec\n",
      "test  mean loss=0.512223920895, accuracy=0.753574435204\n",
      "epoch 10\n",
      "train mean loss=0.460162477301, accuracy=0.778303373697, throughput=959.60577668 images/sec\n",
      "test  mean loss=0.494379425821, accuracy=0.758200169161\n",
      "epoch 11\n",
      "train mean loss=0.433004420851, accuracy=0.79575317427, throughput=1000.63754124 images/sec\n",
      "test  mean loss=0.493207510426, accuracy=0.767031117384\n",
      "epoch 12\n",
      "train mean loss=0.419958353065, accuracy=0.806265106471, throughput=1031.00536766 images/sec\n",
      "test  mean loss=0.473684547051, accuracy=0.780487805881\n",
      "epoch 13\n",
      "train mean loss=0.372425944368, accuracy=0.829391353071, throughput=961.479760121 images/sec\n",
      "test  mean loss=0.451218516311, accuracy=0.791841879124\n",
      "epoch 14\n",
      "train mean loss=0.352633772818, accuracy=0.843477342146, throughput=921.783122945 images/sec\n",
      "test  mean loss=0.524012150711, accuracy=0.764507991311\n",
      "epoch 15\n",
      "train mean loss=0.334158057697, accuracy=0.855776300387, throughput=1004.54945284 images/sec\n",
      "test  mean loss=0.460516593379, accuracy=0.794785528999\n",
      "epoch 16\n",
      "train mean loss=0.334943682663, accuracy=0.863239773112, throughput=915.896841979 images/sec\n",
      "test  mean loss=0.467728090484, accuracy=0.814550035836\n",
      "epoch 17\n",
      "train mean loss=0.288782063096, accuracy=0.88605066133, throughput=1048.38124001 images/sec\n",
      "test  mean loss=0.552592343699, accuracy=0.78553405943\n",
      "epoch 18\n",
      "train mean loss=0.269971393994, accuracy=0.897088190396, throughput=1055.30670021 images/sec\n",
      "test  mean loss=0.539664240483, accuracy=0.82380151102\n",
      "epoch 19\n",
      "train mean loss=0.217877150481, accuracy=0.919478605344, throughput=1006.0046243 images/sec\n",
      "test  mean loss=0.524147947274, accuracy=0.826745160845\n",
      "epoch 20\n",
      "train mean loss=0.205138938869, accuracy=0.92736255184, throughput=1062.32449236 images/sec\n",
      "test  mean loss=0.44770935451, accuracy=0.843145493051\n",
      "epoch 21\n",
      "train mean loss=0.243349160493, accuracy=0.917901816033, throughput=1055.89212927 images/sec\n",
      "test  mean loss=0.638849239812, accuracy=0.81539107918\n",
      "epoch 22\n",
      "train mean loss=0.238611905567, accuracy=0.922842422263, throughput=1021.18750006 images/sec\n",
      "test  mean loss=0.537643386623, accuracy=0.801513871994\n",
      "epoch 23\n",
      "train mean loss=0.184027136833, accuracy=0.935456740233, throughput=992.017029698 images/sec\n",
      "test  mean loss=0.458885588071, accuracy=0.836837673458\n",
      "epoch 24\n",
      "train mean loss=0.267705518029, accuracy=0.925575525925, throughput=1022.94007648 images/sec\n",
      "test  mean loss=0.458217270679, accuracy=0.845248104395\n",
      "epoch 25\n",
      "train mean loss=0.156616267841, accuracy=0.957426677088, throughput=1046.90480955 images/sec\n",
      "test  mean loss=0.552027685112, accuracy=0.826745160795\n",
      "epoch 26\n",
      "train mean loss=0.122406497176, accuracy=0.965520867424, throughput=1004.40733778 images/sec\n",
      "test  mean loss=0.494771329193, accuracy=0.862068957847\n",
      "epoch 27\n",
      "train mean loss=0.0827413036429, accuracy=0.978345423282, throughput=1021.54565812 images/sec\n",
      "test  mean loss=0.493343676949, accuracy=0.873843558051\n",
      "epoch 28\n",
      "train mean loss=0.0562486160819, accuracy=0.987911282685, throughput=960.862407978 images/sec\n",
      "test  mean loss=0.47532920394, accuracy=0.885618161513\n",
      "epoch 29\n",
      "train mean loss=0.045088031725, accuracy=0.990434147489, throughput=944.143376173 images/sec\n",
      "test  mean loss=0.502966263309, accuracy=0.880151386267\n",
      "epoch 30\n",
      "train mean loss=0.0530551524437, accuracy=0.989803430348, throughput=1056.25804831 images/sec\n",
      "test  mean loss=0.587367904597, accuracy=0.871320429271\n",
      "epoch 31\n",
      "train mean loss=0.2060816554, accuracy=0.944286765886, throughput=1067.04409021 images/sec\n",
      "test  mean loss=0.648170683079, accuracy=0.835576106963\n",
      "epoch 32\n",
      "train mean loss=0.119686744971, accuracy=0.970461475314, throughput=1018.78632585 images/sec\n",
      "test  mean loss=0.546476799027, accuracy=0.867115217913\n",
      "epoch 33\n",
      "train mean loss=0.0661099265237, accuracy=0.987806164634, throughput=1048.41639009 images/sec\n",
      "test  mean loss=0.511480120398, accuracy=0.887300246748\n",
      "epoch 34\n",
      "train mean loss=0.0274158369495, accuracy=0.996215708121, throughput=1057.24786641 images/sec\n",
      "test  mean loss=0.531076895993, accuracy=0.885197642774\n",
      "epoch 35\n",
      "train mean loss=0.0187545577676, accuracy=0.998633449955, throughput=1062.16315807 images/sec\n",
      "test  mean loss=0.558806574838, accuracy=0.878469295819\n",
      "epoch 36\n",
      "train mean loss=0.0836572988075, accuracy=0.978135183201, throughput=1061.61888581 images/sec\n",
      "test  mean loss=0.704421661938, accuracy=0.866694691705\n",
      "epoch 37\n",
      "train mean loss=0.111684287174, accuracy=0.9724587425, throughput=1062.15049095 images/sec\n",
      "test  mean loss=0.575452023426, accuracy=0.875105126401\n",
      "epoch 38\n",
      "train mean loss=0.0433608674072, accuracy=0.991064862969, throughput=1031.76798649 images/sec\n",
      "test  mean loss=0.616389743132, accuracy=0.878889819371\n",
      "epoch 39\n",
      "train mean loss=0.0243088753278, accuracy=0.997477138329, throughput=1054.84695035 images/sec\n",
      "test  mean loss=0.629296504043, accuracy=0.877207731629\n",
      "epoch 40\n",
      "train mean loss=0.010897746481, accuracy=0.999684642369, throughput=1013.49182264 images/sec\n",
      "test  mean loss=0.64881889403, accuracy=0.88183347065\n",
      "epoch 41\n",
      "train mean loss=0.00943114701433, accuracy=0.999264165529, throughput=1012.33672883 images/sec\n",
      "test  mean loss=0.672546977075, accuracy=0.878889817265\n",
      "epoch 42\n",
      "train mean loss=0.00556956396588, accuracy=1.0, throughput=945.241002613 images/sec\n",
      "test  mean loss=0.688959529675, accuracy=0.87552564494\n",
      "epoch 43\n",
      "train mean loss=0.00436060118143, accuracy=1.0, throughput=916.183152435 images/sec\n",
      "test  mean loss=0.690598427259, accuracy=0.882253989189\n",
      "epoch 44\n",
      "train mean loss=0.00361061346304, accuracy=1.0, throughput=1008.79794027 images/sec\n",
      "test  mean loss=0.708374239548, accuracy=0.881833467943\n",
      "epoch 45\n",
      "train mean loss=0.00299206072312, accuracy=1.0, throughput=997.98064718 images/sec\n",
      "test  mean loss=0.723974534701, accuracy=0.881833467943\n",
      "epoch 46\n",
      "train mean loss=0.0025656762165, accuracy=1.0, throughput=809.844249934 images/sec\n",
      "test  mean loss=0.743241355888, accuracy=0.878469294565\n",
      "epoch 47\n",
      "train mean loss=0.00219625562036, accuracy=1.0, throughput=686.252487007 images/sec\n",
      "test  mean loss=0.757205514671, accuracy=0.879730858955\n",
      "epoch 48\n",
      "train mean loss=0.00188173981027, accuracy=1.0, throughput=999.684738082 images/sec\n",
      "test  mean loss=0.769942610403, accuracy=0.879310340416\n",
      "epoch 49\n",
      "train mean loss=0.00163035778546, accuracy=1.0, throughput=1020.18503234 images/sec\n",
      "test  mean loss=0.781318604194, accuracy=0.879310340416\n",
      "epoch 50\n",
      "train mean loss=0.00140915113419, accuracy=1.0, throughput=988.68431449 images/sec\n",
      "test  mean loss=0.794799793133, accuracy=0.880571903553\n",
      "save the model\n",
      "save the optimizer\n"
     ]
    }
   ],
   "source": [
    "cnntrain.train(train_0_0, test_0_0)"
   ]
  },
  {
   "cell_type": "code",
   "execution_count": 56,
   "metadata": {
    "collapsed": true
   },
   "outputs": [],
   "source": [
    "epoch_num = 50\n",
    "save_data_dir = '../data/bookmark/ajax_30/'\n",
    "save_model_dir = \"../models/cnn/results/ajax_%s_30/\" % epoch_num\n",
    "os.mkdir(\"../models/cnn/results/ajax_%s_30\" % epoch_num)\n",
    "train_0_0_30 = numpy.load(save_data_dir + '0_test/0_fold/0_train.npz')\n",
    "test_0_0_30 = numpy.load(save_data_dir + '0_test/0_fold/0_test.npz')\n",
    "cnntrain = cnn.CNN(save_model_dir=save_model_dir, epoch_num=epoch_num)"
   ]
  },
  {
   "cell_type": "code",
   "execution_count": 57,
   "metadata": {
    "collapsed": false
   },
   "outputs": [
    {
     "data": {
      "text/plain": [
       "(2168, 30)"
      ]
     },
     "execution_count": 57,
     "metadata": {},
     "output_type": "execute_result"
    }
   ],
   "source": [
    "train_0_0_30['x'].shape"
   ]
  },
  {
   "cell_type": "code",
   "execution_count": 58,
   "metadata": {
    "collapsed": false
   },
   "outputs": [
    {
     "name": "stdout",
     "output_type": "stream",
     "text": [
      "epoch 1\n",
      "graph generated\n",
      "train mean loss=0.856766545025, accuracy=0.749077491297, throughput=915.436561686 images/sec\n",
      "test  mean loss=0.770515868255, accuracy=0.769372691967\n",
      "epoch 2\n",
      "train mean loss=0.513243945982, accuracy=0.783671582042, throughput=951.976112163 images/sec\n",
      "test  mean loss=0.517006267701, accuracy=0.7822878176\n",
      "epoch 3\n",
      "train mean loss=0.412609556917, accuracy=0.818265679633, throughput=1027.25791076 images/sec\n",
      "test  mean loss=0.451953402415, accuracy=0.789667895359\n",
      "epoch 4\n",
      "train mean loss=0.374739015839, accuracy=0.839022137032, throughput=1065.5489713 images/sec\n",
      "test  mean loss=0.436411118925, accuracy=0.813653138291\n",
      "epoch 5\n",
      "train mean loss=0.350621334466, accuracy=0.845479698474, throughput=1073.68401146 images/sec\n",
      "test  mean loss=0.52345504488, accuracy=0.789667890521\n",
      "epoch 6\n",
      "train mean loss=0.344226040468, accuracy=0.855166042038, throughput=1046.9965709 images/sec\n",
      "test  mean loss=0.429894789449, accuracy=0.800738004301\n",
      "epoch 7\n",
      "train mean loss=0.33875343829, accuracy=0.862084867385, throughput=1015.72357354 images/sec\n",
      "test  mean loss=0.412158502644, accuracy=0.821033207253\n",
      "epoch 8\n",
      "train mean loss=0.387984358503, accuracy=0.85839482867, throughput=918.100958835 images/sec\n",
      "test  mean loss=0.47232382093, accuracy=0.80442804604\n",
      "epoch 9\n",
      "train mean loss=0.378557457145, accuracy=0.851937265579, throughput=885.715734301 images/sec\n",
      "test  mean loss=0.444306295406, accuracy=0.824723232936\n",
      "epoch 10\n",
      "train mean loss=0.283775664619, accuracy=0.880535054361, throughput=942.945645605 images/sec\n",
      "test  mean loss=0.417758366169, accuracy=0.837638371105\n",
      "epoch 11\n",
      "train mean loss=0.259280933322, accuracy=0.89391143653, throughput=926.464515443 images/sec\n",
      "test  mean loss=0.358241843341, accuracy=0.841328402947\n",
      "epoch 12\n",
      "train mean loss=0.234868569169, accuracy=0.900830253794, throughput=1028.61968683 images/sec\n",
      "test  mean loss=0.507463369862, accuracy=0.837638376604\n",
      "epoch 13\n",
      "train mean loss=0.25201322218, accuracy=0.901291513465, throughput=1035.25449981 images/sec\n",
      "test  mean loss=0.391271840107, accuracy=0.856088552968\n",
      "epoch 14\n",
      "train mean loss=0.201800770137, accuracy=0.929889297023, throughput=1076.82464182 images/sec\n",
      "test  mean loss=0.338744929906, accuracy=0.872693719019\n",
      "epoch 15\n",
      "train mean loss=0.175959330506, accuracy=0.940959408714, throughput=1017.18131794 images/sec\n",
      "test  mean loss=0.379644148189, accuracy=0.872693719019\n",
      "epoch 16\n",
      "train mean loss=0.144071818058, accuracy=0.952952035899, throughput=1028.9198577 images/sec\n",
      "test  mean loss=0.27301567386, accuracy=0.89298892791\n",
      "epoch 17\n",
      "train mean loss=0.121375391658, accuracy=0.96263837149, throughput=1044.11131644 images/sec\n",
      "test  mean loss=0.313754887983, accuracy=0.900368998631\n",
      "epoch 18\n",
      "train mean loss=0.135598186823, accuracy=0.955719560275, throughput=1001.26363756 images/sec\n",
      "test  mean loss=0.301678438468, accuracy=0.876383757899\n",
      "epoch 19\n",
      "train mean loss=0.342763503409, accuracy=0.913745385034, throughput=944.463591794 images/sec\n",
      "test  mean loss=0.634856480404, accuracy=0.822878226583\n",
      "epoch 20\n",
      "train mean loss=0.27548169368, accuracy=0.911900367794, throughput=1038.27051858 images/sec\n",
      "test  mean loss=0.382006929809, accuracy=0.857933571858\n",
      "epoch 21\n",
      "train mean loss=0.14307171793, accuracy=0.959409592281, throughput=1036.37493193 images/sec\n",
      "test  mean loss=0.369163039701, accuracy=0.900369000171\n",
      "epoch 22\n",
      "train mean loss=0.109372299457, accuracy=0.970940962379, throughput=1022.27413143 images/sec\n",
      "test  mean loss=0.291186727913, accuracy=0.898523972483\n",
      "epoch 23\n",
      "train mean loss=0.0816742836333, accuracy=0.979704798533, throughput=1015.85678971 images/sec\n",
      "test  mean loss=0.299775170747, accuracy=0.894833937562\n",
      "epoch 24\n",
      "train mean loss=0.0620220541332, accuracy=0.984317348507, throughput=1005.11364357 images/sec\n",
      "test  mean loss=0.291162105339, accuracy=0.902214026319\n",
      "epoch 25\n",
      "train mean loss=0.0488085893904, accuracy=0.988929893698, throughput=1000.26301934 images/sec\n",
      "test  mean loss=0.285996560598, accuracy=0.905904055741\n",
      "epoch 26\n",
      "train mean loss=0.0387496368657, accuracy=0.993542440208, throughput=950.269561866 images/sec\n",
      "test  mean loss=0.252274867986, accuracy=0.911439111312\n",
      "epoch 27\n",
      "train mean loss=0.0329400523268, accuracy=0.994464947179, throughput=1024.49239533 images/sec\n",
      "test  mean loss=0.317164113821, accuracy=0.902214015322\n",
      "epoch 28\n",
      "train mean loss=0.0288214053936, accuracy=0.994926202726, throughput=1013.755848 images/sec\n",
      "test  mean loss=0.256769498075, accuracy=0.915129153491\n",
      "epoch 29\n",
      "train mean loss=0.0227315102169, accuracy=0.998154983309, throughput=983.747259772 images/sec\n",
      "test  mean loss=0.289320497152, accuracy=0.907749076391\n",
      "epoch 30\n",
      "train mean loss=0.0191104069792, accuracy=0.998154983309, throughput=1016.01399341 images/sec\n",
      "test  mean loss=0.265746846781, accuracy=0.909594087583\n",
      "epoch 31\n",
      "train mean loss=0.0155825323216, accuracy=0.999077491655, throughput=982.206605284 images/sec\n",
      "test  mean loss=0.290145035201, accuracy=0.911439109772\n",
      "epoch 32\n",
      "train mean loss=0.0126362345684, accuracy=0.999538745827, throughput=980.556665617 images/sec\n",
      "test  mean loss=0.324494488194, accuracy=0.909594086923\n",
      "epoch 33\n",
      "train mean loss=0.0114416033876, accuracy=0.999538745827, throughput=1028.83929834 images/sec\n",
      "test  mean loss=0.357428561992, accuracy=0.907749070233\n",
      "epoch 34\n",
      "train mean loss=0.0091096583908, accuracy=1.0, throughput=992.904100647 images/sec\n",
      "test  mean loss=0.344467441026, accuracy=0.909594086923\n",
      "epoch 35\n",
      "train mean loss=0.00825626837202, accuracy=1.0, throughput=967.216805133 images/sec\n",
      "test  mean loss=0.392575225308, accuracy=0.905904053542\n",
      "epoch 36\n",
      "train mean loss=0.00661120377288, accuracy=1.0, throughput=930.58868645 images/sec\n",
      "test  mean loss=0.422458030118, accuracy=0.907749070233\n",
      "epoch 37\n",
      "train mean loss=0.0060423160712, accuracy=1.0, throughput=652.488480735 images/sec\n",
      "test  mean loss=0.438835909061, accuracy=0.905904059041\n",
      "epoch 38\n",
      "train mean loss=0.00505457540561, accuracy=1.0, throughput=644.050816352 images/sec\n",
      "test  mean loss=0.426733645662, accuracy=0.907749070233\n",
      "epoch 39\n",
      "train mean loss=0.00428407505838, accuracy=1.0, throughput=706.346046253 images/sec\n",
      "test  mean loss=0.477386939432, accuracy=0.905904053542\n",
      "epoch 40\n",
      "train mean loss=0.0038393277191, accuracy=1.0, throughput=717.611357849 images/sec\n",
      "test  mean loss=0.460033811313, accuracy=0.907749070233\n",
      "epoch 41\n",
      "train mean loss=0.0034862875259, accuracy=1.0, throughput=869.202294677 images/sec\n",
      "test  mean loss=0.463948878154, accuracy=0.907749070233\n",
      "epoch 42\n",
      "train mean loss=0.00308880806063, accuracy=1.0, throughput=878.113951767 images/sec\n",
      "test  mean loss=0.447139227055, accuracy=0.905904048043\n",
      "epoch 43\n",
      "train mean loss=0.00275458988705, accuracy=1.0, throughput=911.598085867 images/sec\n",
      "test  mean loss=0.489619941069, accuracy=0.904059031353\n",
      "epoch 44\n",
      "train mean loss=0.00254727452812, accuracy=1.0, throughput=896.075113322 images/sec\n",
      "test  mean loss=0.528863804559, accuracy=0.905904053542\n",
      "epoch 45\n",
      "train mean loss=0.00227512874887, accuracy=1.0, throughput=831.225867715 images/sec\n",
      "test  mean loss=0.531628537208, accuracy=0.905904053542\n",
      "epoch 46\n",
      "train mean loss=0.00208247544839, accuracy=1.0, throughput=856.198826231 images/sec\n",
      "test  mean loss=0.482948404946, accuracy=0.904059031353\n",
      "epoch 47\n",
      "train mean loss=0.00194871290312, accuracy=1.0, throughput=860.675672987 images/sec\n",
      "test  mean loss=0.51363399897, accuracy=0.904059031353\n",
      "epoch 48\n",
      "train mean loss=0.00174419981928, accuracy=1.0, throughput=796.549264112 images/sec\n",
      "test  mean loss=0.476890806315, accuracy=0.904059031353\n",
      "epoch 49\n",
      "train mean loss=0.00161807563649, accuracy=1.0, throughput=773.248457096 images/sec\n",
      "test  mean loss=0.544759903419, accuracy=0.905904053542\n",
      "epoch 50\n",
      "train mean loss=0.00146194438603, accuracy=1.0, throughput=784.021328792 images/sec\n",
      "test  mean loss=0.538385951775, accuracy=0.905904053542\n",
      "save the model\n",
      "save the optimizer\n"
     ]
    }
   ],
   "source": [
    "cnntrain.train(train_0_0_30, test_0_0_30)"
   ]
  },
  {
   "cell_type": "code",
   "execution_count": 59,
   "metadata": {
    "collapsed": true
   },
   "outputs": [],
   "source": [
    "epoch_num = 50\n",
    "save_data_dir = '../data/bookmark/ajax_60/'\n",
    "save_model_dir = \"../models/cnn/results/ajax_%s_60/\" % epoch_num\n",
    "os.mkdir(\"../models/cnn/results/ajax_%s_60\" % epoch_num)\n",
    "train_0_0_60 = numpy.load(save_data_dir + '0_test/0_fold/0_train.npz')\n",
    "test_0_0_60 = numpy.load(save_data_dir + '0_test/0_fold/0_test.npz')\n",
    "cnntrain = cnn.CNN(save_model_dir=save_model_dir, epoch_num=epoch_num)"
   ]
  },
  {
   "cell_type": "code",
   "execution_count": 60,
   "metadata": {
    "collapsed": false
   },
   "outputs": [
    {
     "data": {
      "text/plain": [
       "(1456, 30)"
      ]
     },
     "execution_count": 60,
     "metadata": {},
     "output_type": "execute_result"
    }
   ],
   "source": [
    "train_0_0_60['x'].shape"
   ]
  },
  {
   "cell_type": "code",
   "execution_count": 61,
   "metadata": {
    "collapsed": false
   },
   "outputs": [
    {
     "name": "stdout",
     "output_type": "stream",
     "text": [
      "epoch 1\n",
      "graph generated\n",
      "train mean loss=0.756237555234, accuracy=0.770604389505, throughput=414.482740029 images/sec\n",
      "test  mean loss=0.714041425916, accuracy=0.834710748728\n",
      "epoch 2\n",
      "train mean loss=0.495513381518, accuracy=0.840659337139, throughput=712.392200358 images/sec\n",
      "test  mean loss=0.427742324174, accuracy=0.867768587324\n",
      "epoch 3\n",
      "train mean loss=0.323671543909, accuracy=0.870879124563, throughput=818.748929825 images/sec\n",
      "test  mean loss=0.292671098484, accuracy=0.895316805721\n",
      "epoch 4\n",
      "train mean loss=0.295001422024, accuracy=0.886675816889, throughput=917.035975479 images/sec\n",
      "test  mean loss=0.380116275981, accuracy=0.887052334373\n",
      "epoch 5\n",
      "train mean loss=0.34921425846, accuracy=0.860576918901, throughput=952.15286567 images/sec\n",
      "test  mean loss=0.473161475687, accuracy=0.878787879445\n",
      "epoch 6\n",
      "train mean loss=0.262986373893, accuracy=0.901098895122, throughput=911.876287539 images/sec\n",
      "test  mean loss=0.245746021572, accuracy=0.925619831755\n",
      "epoch 7\n",
      "train mean loss=0.208810764692, accuracy=0.916895602594, throughput=920.388372154 images/sec\n",
      "test  mean loss=0.393923745586, accuracy=0.914600550307\n",
      "epoch 8\n",
      "train mean loss=0.202058797293, accuracy=0.92857142022, throughput=963.477784216 images/sec\n",
      "test  mean loss=0.198863292693, accuracy=0.925619823545\n",
      "epoch 9\n",
      "train mean loss=0.168729668944, accuracy=0.932692302289, throughput=975.143850528 images/sec\n",
      "test  mean loss=0.240055524552, accuracy=0.911845731998\n",
      "epoch 10\n",
      "train mean loss=0.151593146252, accuracy=0.942307694109, throughput=1070.48904305 images/sec\n",
      "test  mean loss=0.17281879302, accuracy=0.944903568131\n",
      "epoch 11\n",
      "train mean loss=0.130145330402, accuracy=0.953983515337, throughput=1046.46115663 images/sec\n",
      "test  mean loss=0.175777991818, accuracy=0.928374658275\n",
      "epoch 12\n",
      "train mean loss=0.118384300639, accuracy=0.961538463422, throughput=1029.36310728 images/sec\n",
      "test  mean loss=0.182373861123, accuracy=0.920110195136\n",
      "epoch 13\n",
      "train mean loss=0.100783387782, accuracy=0.971153849101, throughput=974.889798254 images/sec\n",
      "test  mean loss=0.1860716614, accuracy=0.939393931512\n",
      "epoch 14\n",
      "train mean loss=0.129506698886, accuracy=0.958791211247, throughput=1013.43079765 images/sec\n",
      "test  mean loss=0.28037803031, accuracy=0.906336078959\n",
      "epoch 15\n",
      "train mean loss=0.106737403823, accuracy=0.964285709455, throughput=1032.91712536 images/sec\n",
      "test  mean loss=0.177208198604, accuracy=0.933884286683\n",
      "epoch 16\n",
      "train mean loss=0.465071683059, accuracy=0.937499994105, throughput=1024.84049013 images/sec\n",
      "test  mean loss=0.348406366162, accuracy=0.909090905479\n",
      "epoch 17\n",
      "train mean loss=0.154234437078, accuracy=0.949862631959, throughput=998.054625654 images/sec\n",
      "test  mean loss=0.244824408813, accuracy=0.933884294893\n",
      "epoch 18\n",
      "train mean loss=0.0919199078804, accuracy=0.971840667774, throughput=1010.88361451 images/sec\n",
      "test  mean loss=0.134991908415, accuracy=0.955922865999\n",
      "epoch 19\n",
      "train mean loss=0.0626379916787, accuracy=0.984203299487, throughput=877.400244159 images/sec\n",
      "test  mean loss=0.143783038231, accuracy=0.95316803948\n",
      "epoch 20\n",
      "train mean loss=0.053088265223, accuracy=0.990384620461, throughput=1028.20053972 images/sec\n",
      "test  mean loss=0.129740971469, accuracy=0.966942147447\n",
      "epoch 21\n",
      "train mean loss=0.0422168587882, accuracy=0.992445059366, throughput=1039.38748624 images/sec\n",
      "test  mean loss=0.144000704836, accuracy=0.95316804769\n",
      "epoch 22\n",
      "train mean loss=0.0364752660331, accuracy=0.994505497699, throughput=1000.52306252 images/sec\n",
      "test  mean loss=0.19244313278, accuracy=0.958677676098\n",
      "epoch 23\n",
      "train mean loss=0.0273363365201, accuracy=0.997252747826, throughput=1037.79233266 images/sec\n",
      "test  mean loss=0.205031831736, accuracy=0.95316804769\n",
      "epoch 24\n",
      "train mean loss=0.0289057928264, accuracy=0.995192312277, throughput=1004.8987918 images/sec\n",
      "test  mean loss=0.131666818933, accuracy=0.961432502618\n",
      "epoch 25\n",
      "train mean loss=0.0226700258234, accuracy=0.996565937341, throughput=668.052670966 images/sec\n",
      "test  mean loss=0.143265300921, accuracy=0.961432494408\n",
      "epoch 26\n",
      "train mean loss=0.0153238304889, accuracy=0.998626374936, throughput=473.777273952 images/sec\n",
      "test  mean loss=0.141085605285, accuracy=0.964187312717\n",
      "epoch 27\n",
      "train mean loss=0.0108356710816, accuracy=0.999313187468, throughput=679.722686712 images/sec\n",
      "test  mean loss=0.146113169899, accuracy=0.966942139237\n",
      "epoch 28\n",
      "train mean loss=0.00900648641566, accuracy=0.999313187468, throughput=754.349418214 images/sec\n",
      "test  mean loss=0.139458155465, accuracy=0.964187320927\n",
      "epoch 29\n",
      "train mean loss=0.00701536362732, accuracy=1.0, throughput=910.209334058 images/sec\n",
      "test  mean loss=0.157249014179, accuracy=0.966942139237\n",
      "epoch 30\n",
      "train mean loss=0.00656236591045, accuracy=1.0, throughput=952.602745478 images/sec\n",
      "test  mean loss=0.126229805164, accuracy=0.966942139237\n",
      "epoch 31\n",
      "train mean loss=0.00521093948999, accuracy=1.0, throughput=967.644438867 images/sec\n",
      "test  mean loss=0.154703814671, accuracy=0.969696965756\n",
      "epoch 32\n",
      "train mean loss=0.00419144404561, accuracy=1.0, throughput=894.433501507 images/sec\n",
      "test  mean loss=0.152119078965, accuracy=0.972451784066\n",
      "epoch 33\n",
      "train mean loss=0.00352301854934, accuracy=1.0, throughput=653.267782056 images/sec\n",
      "test  mean loss=0.167074671299, accuracy=0.969696965756\n",
      "epoch 34\n",
      "train mean loss=0.00309851426381, accuracy=1.0, throughput=734.920437238 images/sec\n",
      "test  mean loss=0.153943806451, accuracy=0.966942139237\n",
      "epoch 35\n",
      "train mean loss=0.00297498005934, accuracy=1.0, throughput=554.217405197 images/sec\n",
      "test  mean loss=0.156850178751, accuracy=0.966942139237\n",
      "epoch 36\n",
      "train mean loss=0.00280895784921, accuracy=1.0, throughput=685.454177748 images/sec\n",
      "test  mean loss=0.157621630329, accuracy=0.972451784066\n",
      "epoch 37\n",
      "train mean loss=0.00221543262232, accuracy=1.0, throughput=909.748720195 images/sec\n",
      "test  mean loss=0.169551691734, accuracy=0.972451784066\n",
      "epoch 38\n",
      "train mean loss=0.00206851285715, accuracy=1.0, throughput=826.614192805 images/sec\n",
      "test  mean loss=0.182387443994, accuracy=0.972451784066\n",
      "epoch 39\n",
      "train mean loss=0.00171463639748, accuracy=1.0, throughput=927.447023544 images/sec\n",
      "test  mean loss=0.183008130896, accuracy=0.972451784066\n",
      "epoch 40\n",
      "train mean loss=0.0015598356506, accuracy=1.0, throughput=707.192610158 images/sec\n",
      "test  mean loss=0.17773852446, accuracy=0.972451784066\n",
      "epoch 41\n",
      "train mean loss=0.00139688754128, accuracy=1.0, throughput=610.423785121 images/sec\n",
      "test  mean loss=0.180494802694, accuracy=0.972451784066\n",
      "epoch 42\n",
      "train mean loss=0.00133730804925, accuracy=1.0, throughput=508.909945562 images/sec\n",
      "test  mean loss=0.189331002278, accuracy=0.969696965756\n",
      "epoch 43\n",
      "train mean loss=0.00119277050921, accuracy=1.0, throughput=704.874108044 images/sec\n",
      "test  mean loss=0.185327380342, accuracy=0.972451784066\n",
      "epoch 44\n",
      "train mean loss=0.00105101624697, accuracy=1.0, throughput=853.458933701 images/sec\n",
      "test  mean loss=0.196701232016, accuracy=0.969696965756\n",
      "epoch 45\n",
      "train mean loss=0.000979023139315, accuracy=1.0, throughput=952.667537034 images/sec\n",
      "test  mean loss=0.212719611126, accuracy=0.966942139237\n",
      "epoch 46\n",
      "train mean loss=0.000925351893474, accuracy=1.0, throughput=752.674874362 images/sec\n",
      "test  mean loss=0.201081731483, accuracy=0.972451784066\n",
      "epoch 47\n",
      "train mean loss=0.00084227419123, accuracy=1.0, throughput=727.024723862 images/sec\n",
      "test  mean loss=0.201638974773, accuracy=0.972451784066\n",
      "epoch 48\n",
      "train mean loss=0.000802438119326, accuracy=1.0, throughput=652.693513333 images/sec\n",
      "test  mean loss=0.202227629352, accuracy=0.969696965756\n",
      "epoch 49\n",
      "train mean loss=0.000728891633176, accuracy=1.0, throughput=809.412741202 images/sec\n",
      "test  mean loss=0.199680649304, accuracy=0.972451784066\n",
      "epoch 50\n",
      "train mean loss=0.000667527958265, accuracy=1.0, throughput=992.994561617 images/sec\n",
      "test  mean loss=0.217697885945, accuracy=0.969696965756\n",
      "save the model\n",
      "save the optimizer\n"
     ]
    }
   ],
   "source": [
    "cnntrain.train(train_0_0_60, test_0_0_60)"
   ]
  },
  {
   "cell_type": "code",
   "execution_count": null,
   "metadata": {
    "collapsed": true
   },
   "outputs": [],
   "source": []
  }
 ],
 "metadata": {
  "celltoolbar": "Raw Cell Format",
  "kernelspec": {
   "display_name": "Python 2",
   "language": "python",
   "name": "python2"
  },
  "language_info": {
   "codemirror_mode": {
    "name": "ipython",
    "version": 2
   },
   "file_extension": ".py",
   "mimetype": "text/x-python",
   "name": "python",
   "nbconvert_exporter": "python",
   "pygments_lexer": "ipython2",
   "version": "2.7.11"
  }
 },
 "nbformat": 4,
 "nbformat_minor": 0
}
